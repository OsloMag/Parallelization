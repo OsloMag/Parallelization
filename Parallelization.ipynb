{
 "cells": [
  {
   "cell_type": "code",
   "execution_count": 1,
   "id": "8b62a156-5c84-4d0f-b915-e3ce7a88ea4e",
   "metadata": {},
   "outputs": [],
   "source": [
    "import numpy as np\n",
    "import pandas as pd\n",
    "from datetime import datetime\n",
    "import time\n",
    "from concurrent.futures import ThreadPoolExecutor, ProcessPoolExecutor\n",
    "\n",
    "from utils import square, random_number, primeCheck"
   ]
  },
  {
   "cell_type": "markdown",
   "id": "dcb1fd94-b24b-42ca-9c0e-eff592fa342f",
   "metadata": {},
   "source": [
    "## Get the number of CPU cores available on your system\n",
    "Good to check that we are logged in to the server.\n"
   ]
  },
  {
   "cell_type": "code",
   "execution_count": 2,
   "id": "f001ddb6-d9b5-4633-a785-0cbec5f114c6",
   "metadata": {},
   "outputs": [
    {
     "name": "stdout",
     "output_type": "stream",
     "text": [
      "Number of CPU cores: 14\n"
     ]
    }
   ],
   "source": [
    "with ThreadPoolExecutor(max_workers=None) as executor:\n",
    "    num_cores = executor._max_workers\n",
    "print(f\"Number of CPU cores: {num_cores}\")"
   ]
  },
  {
   "cell_type": "markdown",
   "id": "e602f68f-4899-40bc-8516-bbb4945dd364",
   "metadata": {},
   "source": [
    "In the following function, `multiprocessing` is used to parallelize the execution of a given function `func` over a sequence of arguments `args`. The function will utilize multiple worker processes, up to the number specified by `workers`. The `ProcessPoolExecutor` from the `concurrent.futures` module provides a pool of worker processes, which executes calls asynchronously.\n",
    "\n",
    "Results from the workers are aggregated into a list and returned once all operations have completed.\n",
    "\n",
    "We’ll use the function `primeCheck` to brute force whether a number is prime or not.\n",
    "\n",
    "Note: put the function you're working with in a separate Python file and then import that function from within your notebook"
   ]
  },
  {
   "cell_type": "code",
   "execution_count": 3,
   "id": "2bf83d92-5531-4115-bfc9-5bf40c046976",
   "metadata": {},
   "outputs": [],
   "source": [
    "def multiprocessing(func, args, workers):\n",
    "    with ProcessPoolExecutor(workers) as ex:\n",
    "        res = ex.map(func, args)\n",
    "    return list(res)\n",
    "\n",
    "def compute_intensive(num_workers):\n",
    "    time_init = time.time()\n",
    "    print(datetime.now())\n",
    "    output  = multiprocessing(primeCheck, numbers, num_workers)\n",
    "    time_end = time.time()\n",
    "    print(datetime.now())\n",
    "    print(f'Multiprocessing with {num_workers} processes took {(time_end - time_init):.4f}s.')\n",
    "    return output"
   ]
  },
  {
   "cell_type": "code",
   "execution_count": 4,
   "id": "764814e7-a824-42e7-90c9-3890fa63a2fd",
   "metadata": {},
   "outputs": [],
   "source": [
    "numbers = [2, 7, 13, 28, 99991, 188877, 1616161, 4441939, 90870847,\n",
    "           92525533, 94939291, 98776551, 99999999, 100030001]\n",
    "\n",
    "num_workers = 6"
   ]
  },
  {
   "cell_type": "markdown",
   "id": "842487e3-d497-4110-8ef7-7d10274bbc43",
   "metadata": {},
   "source": [
    "### Sequential example"
   ]
  },
  {
   "cell_type": "code",
   "execution_count": 5,
   "id": "c32accda-d1e4-4605-a96e-c0a19fa652bf",
   "metadata": {},
   "outputs": [
    {
     "name": "stdout",
     "output_type": "stream",
     "text": [
      "2024-04-12 13:53:39.156680\n",
      "2024-04-12 13:54:02.149227\n",
      "Multiprocessing with 1 processes took 22.9925s.\n"
     ]
    }
   ],
   "source": [
    "num_workers = 1\n",
    "if __name__ == '__main__':\n",
    "    out = compute_intensive(num_workers)\n",
    "    data_frame = pd.DataFrame(out)"
   ]
  },
  {
   "cell_type": "markdown",
   "id": "e23209d7-cda3-4f30-a2bb-492c8748a8fe",
   "metadata": {},
   "source": [
    "### Sequential example"
   ]
  },
  {
   "cell_type": "code",
   "execution_count": 6,
   "id": "491451e1-83af-4e81-a212-5acb437b7e54",
   "metadata": {},
   "outputs": [
    {
     "name": "stdout",
     "output_type": "stream",
     "text": [
      "2024-04-12 13:54:02.157429\n",
      "2024-04-12 13:54:09.887034\n",
      "Multiprocessing with 14 processes took 7.7296s.\n"
     ]
    }
   ],
   "source": [
    "num_workers = 14\n",
    "\n",
    "if __name__ == '__main__':\n",
    "    out = compute_intensive(num_workers)\n",
    "    data_frame = pd.DataFrame(out)"
   ]
  },
  {
   "cell_type": "markdown",
   "id": "3f6a6fce-088f-419f-b5a5-8e7d5e01bc67",
   "metadata": {},
   "source": [
    "### To maximize resources, double check th Amdahl law\n",
    "Amdahl's Law states that the speedup of a parallelized program is limited by the fraction of the program that must be executed sequentially."
   ]
  }
 ],
 "metadata": {
  "kernelspec": {
   "display_name": "Python 3 (ipykernel)",
   "language": "python",
   "name": "python3"
  },
  "language_info": {
   "codemirror_mode": {
    "name": "ipython",
    "version": 3
   },
   "file_extension": ".py",
   "mimetype": "text/x-python",
   "name": "python",
   "nbconvert_exporter": "python",
   "pygments_lexer": "ipython3",
   "version": "3.10.9"
  }
 },
 "nbformat": 4,
 "nbformat_minor": 5
}
